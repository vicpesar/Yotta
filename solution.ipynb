{
 "cells": [
  {
   "cell_type": "code",
   "execution_count": null,
   "metadata": {},
   "outputs": [],
   "source": [
    "# Initialize Spark session\n",
    "from pyspark.sql import SparkSession\n",
    "from pyspark.sql.functions import explode,col\n",
    "\n",
    "#create spark session\n",
    "spark = SparkSession.builder.appName('Spark Playground').getOrCreate()\n",
    "\n",
    "#enter the file path here\n",
    "file_path = \"/datasets/orders.json\"\n",
    "\n",
    "#read json file multiLine\n",
    "df = spark.read.option('multiLine','true').json(file_path)\n",
    "\n",
    "df = df.select( #explode the array of products so that each product becomes a separate row\n",
    "                col('customer_id')\n",
    "               ,col('order_id')\n",
    "               , explode(col('products')).alias('product') \n",
    "              ) \\\n",
    "        .select( #extract the relevant fields: customer_id, order_id, product_name, and product_price\n",
    "                 col('customer_id')\n",
    "                ,col('order_id')\n",
    "                ,col('product.product_name').alias('product_name')\n",
    "                ,col('product.product_price').alias('product_price')\n",
    "               )\n",
    "\n",
    "# Display the final DataFrame using the display() function.\n",
    "display(df)          "
   ]
  }
 ],
 "metadata": {
  "kernelspec": {
   "display_name": "Python 3",
   "language": "python",
   "name": "python3"
  },
  "language_info": {
   "name": "python",
   "version": "3.8.5"
  }
 },
 "nbformat": 4,
 "nbformat_minor": 2
}
