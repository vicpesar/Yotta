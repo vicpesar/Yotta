{
 "cells": [
  {
   "cell_type": "code",
   "execution_count": null,
   "metadata": {},
   "outputs": [],
   "source": [
    "# Initialize Spark session\n",
    "from pyspark.sql import SparkSession\n",
    "from pyspark.sql.functions import explode,col\n",
    "spark = SparkSession.builder.appName('Spark Playground').getOrCreate()\n",
    "\n",
    "#enter the file path here\n",
    "file_path = \"/datasets/orders.json\"\n",
    "\n",
    "#read the file\n",
    "df = spark.read.option('multiLine', 'true').json(file_path)\n",
    "\n",
    "df = df.selectExpr('customer_id'\n",
    "                  ,'order_id'\n",
    "                  ,'explode(products) as products'\n",
    "                  )\n",
    "\n",
    "df = df.selectExpr('customer_id'\n",
    "                  ,'order_id'\n",
    "                  ,'products.product_name as product_name'\n",
    "                  ,'products.product_price as product_price'  \n",
    "                )\n",
    "\n",
    "\n",
    "# Display the final DataFrame using the display() function.\n",
    "display(df)"
   ]
  }
 ],
 "metadata": {
  "kernelspec": {
   "display_name": "Python 3",
   "language": "python",
   "name": "python3"
  },
  "language_info": {
   "name": "python",
   "version": "3.8.5"
  }
 },
 "nbformat": 4,
 "nbformat_minor": 2
}
